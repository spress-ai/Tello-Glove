{
 "cells": [
  {
   "cell_type": "code",
   "execution_count": 1,
   "metadata": {},
   "outputs": [],
   "source": [
    "import numpy as np\n",
    "from sklearn.preprocessing import MinMaxScaler\n",
    "import joblib\n",
    "import serial\n",
    "import timeit\n",
    "import time\n",
    "import matplotlib.pyplot as plt\n",
    "import matplotlib\n",
    "import pandas as pd\n",
    "import copy\n",
    "%matplotlib inline\n",
    "\n",
    "is_ipython = 'inline' in matplotlib.get_backend()\n",
    "if is_ipython: from IPython import display"
   ]
  },
  {
   "cell_type": "code",
   "execution_count": 2,
   "metadata": {},
   "outputs": [],
   "source": [
    "ser = serial.Serial(\"/dev/cu.usbserial-AD01TCNO\", baudrate = 115200, timeout = 1)\n",
    "time.sleep(1)\n",
    "ser.flushInput()\n",
    "ser.flushOutput()\n",
    "time.sleep(1)"
   ]
  },
  {
   "cell_type": "code",
   "execution_count": 3,
   "metadata": {},
   "outputs": [],
   "source": [
    "def is_spike_up(threshold_up, threshold_down, x_window):\n",
    "    spike = [None, None]\n",
    "\n",
    "    for i in range(len(x_window) - 1):\n",
    "        if x_window[i + 1] > x_window[i] * threshold_up:\n",
    "            spike[0] = i\n",
    "            \n",
    "    if spike[0] != None:\n",
    "        for i in range(spike[0], len(x_window) - 1):\n",
    "            if x_window[i + 1] < x_window[i] * threshold_down:\n",
    "                spike[1] = i\n",
    "            \n",
    "    return spike\n",
    "            \n",
    "def is_spike_down(threshold_up, threshold_down, x_window):\n",
    "    spike = [None, None]\n",
    "\n",
    "    for i in range(len(x_window) - 1):\n",
    "        if x_window[i + 1] < x_window[i] * threshold_down:\n",
    "            spike[0] = i\n",
    "            \n",
    "    if spike[0] != None:\n",
    "        for i in range(spike[0], len(x_window) - 1):\n",
    "            if x_window[i + 1] > x_window[i] * threshold_up:\n",
    "                spike[1] = i\n",
    "            \n",
    "    return spike\n",
    "        \n",
    "def get_is_spike(x, x_window):\n",
    "    threshold_up = 50\n",
    "    threshold_down = 0.02\n",
    "    is_spike = False\n",
    "    spike = [None, None]\n",
    "    \n",
    "    spike_up = is_spike_up(threshold_up, threshold_down, x_window)\n",
    "    spike_down = is_spike_down(threshold_up, threshold_down, x_window)\n",
    "    \n",
    "    if spike_up[0] != None and spike_up[1] != None:\n",
    "        is_spike = True\n",
    "        spike = spike_up\n",
    "    elif spike_down[0] != None and spike_down[1] != None:\n",
    "        is_spike = True\n",
    "        spike = spike_down\n",
    "        \n",
    "    return (is_spike, spike)\n",
    "\n",
    "\n",
    "def get_filterd_data(x):\n",
    "    x = np.array(x)\n",
    "    for i in range(len(x)):\n",
    "        if i > 1 and i < len(x) - 2:\n",
    "            for j in range(len(x[i])):\n",
    "                x_window = x[i - 2 : i + 3][:, j] # need to be odd\n",
    "                is_spike, spike_window_indexes = get_is_spike(x[i][j], x_window)\n",
    "                if is_spike:\n",
    "                    x[i][j] = np.median(x_window)\n",
    "    return x"
   ]
  },
  {
   "cell_type": "code",
   "execution_count": 4,
   "metadata": {},
   "outputs": [],
   "source": [
    "def get_serial():\n",
    "    data = ser.readline()\n",
    "    data = str(data).replace(\"b'\", \"\").replace(\"'\", \"\")\n",
    "    data = data.rstrip(\"\\\\r\\\\n\")\n",
    "    data = data.split(\",\")\n",
    "\n",
    "    try:\n",
    "        if len(data) == 6:\n",
    "            return [int(data[0]), float(data[1]), float(data[2]), int(data[3]), int(data[4]), int(data[5])]\n",
    "        else:\n",
    "            return data\n",
    "    except ValueError:\n",
    "        return data"
   ]
  },
  {
   "cell_type": "code",
   "execution_count": 5,
   "metadata": {},
   "outputs": [],
   "source": [
    "def plot(data, filtered_data):\n",
    "    plt.figure(2)\n",
    "    plt.clf()\n",
    "    plt.title(\"Training...\")\n",
    "    plt.xlabel(\"Episode\")\n",
    "    plt.ylabel(\"Duration\")\n",
    "    plt.plot(data)\n",
    "    plt.plot(filtered_data)\n",
    "    plt.show()\n",
    "    plt.pause(0.000001)\n",
    "    \n",
    "    if is_ipython: display.clear_output(wait = True)\n"
   ]
  },
  {
   "cell_type": "code",
   "execution_count": 6,
   "metadata": {},
   "outputs": [
    {
     "ename": "IndexError",
     "evalue": "list index out of range",
     "output_type": "error",
     "traceback": [
      "\u001b[0;31m---------------------------------------------------------------------------\u001b[0m",
      "\u001b[0;31mIndexError\u001b[0m                                Traceback (most recent call last)",
      "\u001b[0;32m<ipython-input-6-50df7804e4a7>\u001b[0m in \u001b[0;36m<module>\u001b[0;34m\u001b[0m\n\u001b[1;32m      8\u001b[0m     \u001b[0mserial_data\u001b[0m \u001b[0;34m=\u001b[0m \u001b[0mget_serial\u001b[0m\u001b[0;34m(\u001b[0m\u001b[0;34m)\u001b[0m\u001b[0;34m\u001b[0m\u001b[0;34m\u001b[0m\u001b[0m\n\u001b[1;32m      9\u001b[0m \u001b[0;34m\u001b[0m\u001b[0m\n\u001b[0;32m---> 10\u001b[0;31m     \u001b[0;32mif\u001b[0m \u001b[0misinstance\u001b[0m\u001b[0;34m(\u001b[0m\u001b[0mserial_data\u001b[0m\u001b[0;34m[\u001b[0m\u001b[0mindex_to_print\u001b[0m\u001b[0;34m]\u001b[0m\u001b[0;34m,\u001b[0m \u001b[0mint\u001b[0m\u001b[0;34m)\u001b[0m \u001b[0;32mor\u001b[0m \u001b[0misinstance\u001b[0m\u001b[0;34m(\u001b[0m\u001b[0mserial_data\u001b[0m\u001b[0;34m[\u001b[0m\u001b[0mindex_to_print\u001b[0m\u001b[0;34m]\u001b[0m\u001b[0;34m,\u001b[0m \u001b[0mfloat\u001b[0m\u001b[0;34m)\u001b[0m\u001b[0;34m:\u001b[0m\u001b[0;34m\u001b[0m\u001b[0;34m\u001b[0m\u001b[0m\n\u001b[0m\u001b[1;32m     11\u001b[0m         \u001b[0mlast_data\u001b[0m\u001b[0;34m.\u001b[0m\u001b[0mappend\u001b[0m\u001b[0;34m(\u001b[0m\u001b[0mserial_data\u001b[0m\u001b[0;34m[\u001b[0m\u001b[0mindex_to_print\u001b[0m\u001b[0;34m]\u001b[0m\u001b[0;34m)\u001b[0m\u001b[0;34m\u001b[0m\u001b[0;34m\u001b[0m\u001b[0m\n\u001b[1;32m     12\u001b[0m \u001b[0;34m\u001b[0m\u001b[0m\n",
      "\u001b[0;31mIndexError\u001b[0m: list index out of range"
     ]
    }
   ],
   "source": [
    "last_data = []\n",
    "start_data_collection = timeit.default_timer()\n",
    "last_average = 0\n",
    "index_to_print = 1\n",
    "size_of_data = 100\n",
    "\n",
    "while True:\n",
    "    serial_data = get_serial()\n",
    "\n",
    "    if isinstance(serial_data[index_to_print], int) or isinstance(serial_data[index_to_print], float): \n",
    "        last_data.append(serial_data[index_to_print])\n",
    "\n",
    "    if len(last_data) >= size_of_data:\n",
    "        stop_data_collection = timeit.default_timer()\n",
    "        data = np.array([last_data])\n",
    "        filtered_data = copy.deepcopy(data)\n",
    "        filtered_data = get_filterd_data(filtered_data.reshape(size_of_data, 1))\n",
    "        plot(data.reshape(size_of_data, 1), filtered_data)\n",
    "        last_data = []\n",
    "        "
   ]
  },
  {
   "cell_type": "code",
   "execution_count": null,
   "metadata": {},
   "outputs": [],
   "source": []
  }
 ],
 "metadata": {
  "kernelspec": {
   "display_name": "Python 3",
   "language": "python",
   "name": "python3"
  },
  "language_info": {
   "codemirror_mode": {
    "name": "ipython",
    "version": 3
   },
   "file_extension": ".py",
   "mimetype": "text/x-python",
   "name": "python",
   "nbconvert_exporter": "python",
   "pygments_lexer": "ipython3",
   "version": "3.7.5"
  }
 },
 "nbformat": 4,
 "nbformat_minor": 2
}
