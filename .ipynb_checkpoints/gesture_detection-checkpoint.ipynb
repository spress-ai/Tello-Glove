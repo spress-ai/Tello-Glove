{
 "cells": [
  {
   "cell_type": "code",
   "execution_count": null,
   "metadata": {},
   "outputs": [],
   "source": [
    "import serial\n",
    "from tensorflow.keras.models import load_model\n",
    "import timeit\n",
    "import time\n",
    "import numpy as np\n",
    "import matplotlib.pyplot as plt\n",
    "import matplotlib\n",
    "from sklearn.preprocessing import MinMaxScaler\n",
    "\n",
    "%matplotlib inline\n",
    "#is_ipython = 'inline' in matplotlib.get_backend()\n",
    "#if is_ipython: from IPython import display"
   ]
  },
  {
   "cell_type": "code",
   "execution_count": null,
   "metadata": {},
   "outputs": [],
   "source": [
    "is_ipython = 'inline' in matplotlib.get_backend()\n",
    "if is_ipython: from IPython import display\n",
    "    \n",
    "#HTML(\"<style> div.code_cell{width: 75%;float: left;}\"\n",
    "#    +\"div.text_cell{width: 25%;float: right;}\"\n",
    "#    +\"div.text_cell div.prompt {display: none;}</style>\")"
   ]
  },
  {
   "cell_type": "code",
   "execution_count": null,
   "metadata": {},
   "outputs": [],
   "source": [
    "ser = serial.Serial(\"/dev/cu.usbserial-AD01TCNO\", baudrate = 115200, timeout = 1)\n",
    "model = load_model(\"model_3.h5\")"
   ]
  },
  {
   "cell_type": "code",
   "execution_count": null,
   "metadata": {},
   "outputs": [],
   "source": [
    "def get_serial():\n",
    "    data = ser.readline()\n",
    "    data = str(data).replace(\"b'\", \"\").replace(\"'\", \"\")\n",
    "    data = data.rstrip(\"\\\\r\\\\n\")\n",
    "    data = data.split(\",\")\n",
    "    #print(data)\n",
    "    try:\n",
    "        if len(data) == 3:\n",
    "            return [float(data[0]), float(data[1]), float(data[2])]\n",
    "        else:\n",
    "            return data\n",
    "    except ValueError:\n",
    "        return data"
   ]
  },
  {
   "cell_type": "code",
   "execution_count": null,
   "metadata": {},
   "outputs": [],
   "source": [
    "def plot(values, pred):\n",
    "    plt.figure(2)\n",
    "    plt.clf()\n",
    "    plt.title(\"Training...\")\n",
    "    plt.xlabel(\"Episode\")\n",
    "    plt.ylabel(\"Duration\")\n",
    "    plt.plot(values)\n",
    "    plt.pause(0.001)\n",
    "    print(pred[0][0])\n",
    "    if is_ipython: display.clear_output(wait = True)"
   ]
  },
  {
   "cell_type": "code",
   "execution_count": null,
   "metadata": {},
   "outputs": [],
   "source": [
    "def normalize_data(x):\n",
    "    x_min = 800\n",
    "    x_max = 1700\n",
    "    print(np.min(x), np.max(x))\n",
    "    x_scaled = (x - x_min) / (x_max - x_min)\n",
    "    #scaler = MinMaxScaler()\n",
    "    #x_scaled = scaler.fit_transform(X)\n",
    "    return x_scaled"
   ]
  },
  {
   "cell_type": "code",
   "execution_count": null,
   "metadata": {},
   "outputs": [],
   "source": [
    "def predict(flex_data):\n",
    "    #flex_data = normalize_data(np.array(flex_data)[:, 1].reshape(150, 1))\n",
    "    flex_data = flex_data.reshape(1, 150, 1)\n",
    "    prediction = model.predict(flex_data)\n",
    "    return (prediction > 0.6, prediction)"
   ]
  },
  {
   "cell_type": "code",
   "execution_count": null,
   "metadata": {},
   "outputs": [],
   "source": [
    "last_data = []\n",
    "is_flying = False\n",
    "\n",
    "while True:\n",
    "    start_data_collection = timeit.default_timer()\n",
    "\n",
    "    #time.sleep(0.001)\n",
    "    serial_data = get_serial()\n",
    "    if isinstance(serial_data[0], float) and isinstance(serial_data[1], float) and isinstance(serial_data[2], float):\n",
    "        last_data.append(serial_data)\n",
    "\n",
    "    if len(last_data) >= 150:\n",
    "        #print(\"Predicting...\")\n",
    "        flex_data = normalize_data(np.array(last_data)[:, 0].reshape(150, 1))\n",
    "        flex_data = flex_data.reshape(150)\n",
    "        prediction = predict(flex_data)\n",
    "        plot(flex_data, prediction)\n",
    "\n",
    "        if prediction:\n",
    "            last_data = []\n",
    "\n",
    "            if is_flying:\n",
    "                #print(\"Landing\")\n",
    "                #tello.send_command_with_return(\"land\")\n",
    "                is_flying = False\n",
    "            else:  \n",
    "                #print(\"Taking Off\")\n",
    "                #tello.send_command_with_return(\"command\")\n",
    "                #tello.send_command_with_return(\"takeoff\")\n",
    "                is_flying = True\n",
    "                \n",
    "        else:\n",
    "            last_data = last_data[-140:]"
   ]
  },
  {
   "cell_type": "code",
   "execution_count": null,
   "metadata": {},
   "outputs": [],
   "source": []
  },
  {
   "cell_type": "code",
   "execution_count": null,
   "metadata": {},
   "outputs": [],
   "source": []
  },
  {
   "cell_type": "code",
   "execution_count": null,
   "metadata": {},
   "outputs": [],
   "source": []
  },
  {
   "cell_type": "code",
   "execution_count": null,
   "metadata": {},
   "outputs": [],
   "source": []
  }
 ],
 "metadata": {
  "kernelspec": {
   "display_name": "Python 3",
   "language": "python",
   "name": "python3"
  },
  "language_info": {
   "codemirror_mode": {
    "name": "ipython",
    "version": 3
   },
   "file_extension": ".py",
   "mimetype": "text/x-python",
   "name": "python",
   "nbconvert_exporter": "python",
   "pygments_lexer": "ipython3",
   "version": "3.7.5"
  }
 },
 "nbformat": 4,
 "nbformat_minor": 2
}
